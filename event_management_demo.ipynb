{
 "cells": [
  {
   "cell_type": "markdown",
   "metadata": {
    "collapsed": true
   },
   "source": [
    "# Events Voting Tool Demo\n",
    "\n",
    "The purpose of this demo notebook is to demonstrate the capabilities of the the `event_tools` API written as part of the \"Introduction to Programming\" Group project assignment. \n",
    "\n",
    "The code provided currently consists of three main classes: \n",
    "- `User()` class: Keeps basic user information (name, uuid, etc.) and allows to track which users attend which events\n",
    "- `Event()` class: Keeps the metadata of the events as well as information on user attendance\n",
    "- `Page()` class: A high-level wrapper class which keeps track of all users and events in the system\n",
    "\n",
    "Using class methods of these classes, the API currently supports the following interactions: \n",
    "- Adding an event\n",
    "- Deleting an event\n",
    "- Adding users to the user database of the page\n",
    "- Inviting people to an event\n",
    "- Allowing people to decide whether to attend or not"
   ]
  },
  {
   "cell_type": "markdown",
   "metadata": {
    "ExecuteTime": {
     "end_time": "2020-05-03T09:59:27.580667Z",
     "start_time": "2020-05-03T09:59:27.578503Z"
    }
   },
   "source": [
    "### API Imports"
   ]
  },
  {
   "cell_type": "code",
   "execution_count": 1,
   "metadata": {
    "ExecuteTime": {
     "end_time": "2020-05-10T14:46:57.193836Z",
     "start_time": "2020-05-10T14:46:57.173303Z"
    }
   },
   "outputs": [],
   "source": [
    "# enable autoreload\n",
    "%reload_ext autoreload\n",
    "%autoreload 2"
   ]
  },
  {
   "cell_type": "code",
   "execution_count": 2,
   "metadata": {
    "ExecuteTime": {
     "end_time": "2020-05-10T14:46:57.729189Z",
     "start_time": "2020-05-10T14:46:57.195318Z"
    }
   },
   "outputs": [],
   "source": [
    "from event_tools import Page, User, Event\n",
    "from random import choice\n",
    "from geopy.geocoders import Nominatim\n"
   ]
  },
  {
   "cell_type": "markdown",
   "metadata": {},
   "source": [
    "## Page & Event initialization"
   ]
  },
  {
   "cell_type": "markdown",
   "metadata": {
    "ExecuteTime": {
     "end_time": "2020-05-03T10:12:23.236826Z",
     "start_time": "2020-05-03T10:12:23.211575Z"
    }
   },
   "source": [
    "### Initializing Page"
   ]
  },
  {
   "cell_type": "code",
   "execution_count": 3,
   "metadata": {
    "ExecuteTime": {
     "end_time": "2020-05-10T14:46:57.751777Z",
     "start_time": "2020-05-10T14:46:57.730749Z"
    }
   },
   "outputs": [],
   "source": [
    "# note that initializing the page already creates a basic number of events\n",
    "page = Page()"
   ]
  },
  {
   "cell_type": "code",
   "execution_count": 4,
   "metadata": {
    "ExecuteTime": {
     "end_time": "2020-05-10T14:46:57.778912Z",
     "start_time": "2020-05-10T14:46:57.753454Z"
    }
   },
   "outputs": [
    {
     "name": "stdout",
     "output_type": "stream",
     "text": [
      "********************************\n",
      "User Name Chris Kamara\n",
      "User ID: 7fb89bd9-00ce-4c1b-bd40-0b751de1ba0e\n",
      "Gender: male\n",
      "Events hosted: []\n",
      "Events invited: []\n",
      "Events attending: []\n",
      "Events maybe attending: []\n",
      "********************************\n",
      "********************************\n",
      "User Name Lionel Messi\n",
      "User ID: ff7ad3eb-df9f-451b-9034-ca144273a0c4\n",
      "Gender: male\n",
      "Events hosted: []\n",
      "Events invited: []\n",
      "Events attending: []\n",
      "Events maybe attending: []\n",
      "********************************\n",
      "********************************\n",
      "User Name Jan Frodeno\n",
      "User ID: a91463f2-bd53-41c8-babe-1fbf2c3bc764\n",
      "Gender: male\n",
      "Events hosted: []\n",
      "Events invited: []\n",
      "Events attending: []\n",
      "Events maybe attending: []\n",
      "********************************\n",
      "********************************\n",
      "User Name Heiko Westermann\n",
      "User ID: c9e485f1-76f9-40ad-ab6a-4a7041994771\n",
      "Gender: male\n",
      "Events hosted: []\n",
      "Events invited: []\n",
      "Events attending: []\n",
      "Events maybe attending: []\n",
      "********************************\n",
      "********************************\n",
      "User Name Serena Williams\n",
      "User ID: 59ffe475-b7ed-4c46-ae50-b197cf86b2d2\n",
      "Gender: female\n",
      "Events hosted: []\n",
      "Events invited: []\n",
      "Events attending: []\n",
      "Events maybe attending: []\n",
      "********************************\n",
      "********************************\n",
      "User Name Marta\n",
      "User ID: 79cdd4c9-d596-4cb4-a0dc-d1387000dd85\n",
      "Gender: female\n",
      "Events hosted: []\n",
      "Events invited: []\n",
      "Events attending: []\n",
      "Events maybe attending: []\n",
      "********************************\n",
      "********************************\n",
      "User Name Alex Morgan\n",
      "User ID: 12d70735-f0e2-4c9f-a157-0bc939647a79\n",
      "Gender: female\n",
      "Events hosted: []\n",
      "Events invited: []\n",
      "Events attending: []\n",
      "Events maybe attending: []\n",
      "********************************\n"
     ]
    }
   ],
   "source": [
    "# get info about all users of the page\n",
    "users = page.get_users()\n",
    "page.get_user_information()"
   ]
  },
  {
   "cell_type": "markdown",
   "metadata": {},
   "source": [
    "### Adding an event"
   ]
  },
  {
   "cell_type": "code",
   "execution_count": 5,
   "metadata": {
    "ExecuteTime": {
     "end_time": "2020-05-10T14:46:57.801613Z",
     "start_time": "2020-05-10T14:46:57.780191Z"
    }
   },
   "outputs": [
    {
     "name": "stdout",
     "output_type": "stream",
     "text": [
      "********************************\n",
      "User Name Chris Kamara\n",
      "User ID: 7fb89bd9-00ce-4c1b-bd40-0b751de1ba0e\n",
      "Gender: male\n",
      "Events hosted: []\n",
      "Events invited: []\n",
      "Events attending: []\n",
      "Events maybe attending: []\n",
      "********************************\n"
     ]
    }
   ],
   "source": [
    "host = users[0]\n",
    "host.get_info()"
   ]
  },
  {
   "cell_type": "code",
   "execution_count": 6,
   "metadata": {
    "ExecuteTime": {
     "end_time": "2020-05-10T14:46:57.826313Z",
     "start_time": "2020-05-10T14:46:57.802961Z"
    }
   },
   "outputs": [],
   "source": [
    "sports_gala = Event(\n",
    "    host=host, \n",
    "    name=\"Sports Gala\", \n",
    "    start_date=\"01/01/2021 20:00\", \n",
    "    end_date=\"02/01/2021 02:00\", \n",
    "    description=\"Annual election to the sportsperson of the year\", \n",
    "    location=\"o2 World Berlin\")"
   ]
  },
  {
   "cell_type": "code",
   "execution_count": 7,
   "metadata": {
    "ExecuteTime": {
     "end_time": "2020-05-10T14:46:57.852820Z",
     "start_time": "2020-05-10T14:46:57.827960Z"
    }
   },
   "outputs": [],
   "source": [
    "football_gala = Event(\n",
    "    host=host, \n",
    "    name=\"Footbball Gala\", \n",
    "    start_date=\"05/02/2021 21:00\", \n",
    "    end_date=\"06/02/2021 21:00\", \n",
    "    description=\"Footballer of the year election\", \n",
    "    location=\"Royal Albert Hall\"\n",
    ")"
   ]
  },
  {
   "cell_type": "code",
   "execution_count": 8,
   "metadata": {
    "ExecuteTime": {
     "end_time": "2020-05-10T14:46:57.878857Z",
     "start_time": "2020-05-10T14:46:57.855326Z"
    }
   },
   "outputs": [
    {
     "name": "stdout",
     "output_type": "stream",
     "text": [
      "********************************\n",
      "User Name Chris Kamara\n",
      "User ID: 7fb89bd9-00ce-4c1b-bd40-0b751de1ba0e\n",
      "Gender: male\n",
      "Events hosted: ['Sports Gala', 'Footbball Gala']\n",
      "Events invited: []\n",
      "Events attending: ['Sports Gala', 'Footbball Gala']\n",
      "Events maybe attending: []\n",
      "********************************\n"
     ]
    }
   ],
   "source": [
    "# we should see that the host information has been update accordingly\n",
    "host.get_info()"
   ]
  },
  {
   "cell_type": "markdown",
   "metadata": {
    "ExecuteTime": {
     "end_time": "2020-05-03T10:15:22.761458Z",
     "start_time": "2020-05-03T10:15:22.741600Z"
    }
   },
   "source": [
    "## Inviting users\n",
    "Only the host is able to invite users to his own events"
   ]
  },
  {
   "cell_type": "code",
   "execution_count": 9,
   "metadata": {
    "ExecuteTime": {
     "end_time": "2020-05-10T14:46:57.905025Z",
     "start_time": "2020-05-10T14:46:57.881111Z"
    }
   },
   "outputs": [],
   "source": [
    "# host invites all users on the page (apart from himself)\n",
    "sports_guest_list = [user for user in page.get_users() if user.name != host.name]\n",
    "sports_gala.invite_users(host, sports_guest_list)"
   ]
  },
  {
   "cell_type": "code",
   "execution_count": 10,
   "metadata": {
    "ExecuteTime": {
     "end_time": "2020-05-10T14:46:57.931735Z",
     "start_time": "2020-05-10T14:46:57.906616Z"
    }
   },
   "outputs": [],
   "source": [
    "# for the footballing gala, we only want to invited footballers\n",
    "footballers = [\"Lionel Messi\", \"Heiko Westermann\", \"Marta\", \"Alex Morgan\"]\n",
    "football_guest_list = [user for user in page.get_users() if user.name in footballers]"
   ]
  },
  {
   "cell_type": "code",
   "execution_count": 11,
   "metadata": {
    "ExecuteTime": {
     "end_time": "2020-05-10T14:46:57.955803Z",
     "start_time": "2020-05-10T14:46:57.933094Z"
    }
   },
   "outputs": [],
   "source": [
    "football_gala.invite_users(host, football_guest_list)"
   ]
  },
  {
   "cell_type": "code",
   "execution_count": 12,
   "metadata": {
    "ExecuteTime": {
     "end_time": "2020-05-10T14:46:57.979242Z",
     "start_time": "2020-05-10T14:46:57.957372Z"
    }
   },
   "outputs": [],
   "source": [
    "page.events += [football_gala, sports_gala]"
   ]
  },
  {
   "cell_type": "markdown",
   "metadata": {
    "ExecuteTime": {
     "end_time": "2020-05-03T10:59:42.796644Z",
     "start_time": "2020-05-03T10:59:42.778140Z"
    }
   },
   "source": [
    "We can now see that all sportspeople are invited to the sports gala, but only the footballers to the football gala when we view the page stats"
   ]
  },
  {
   "cell_type": "code",
   "execution_count": 13,
   "metadata": {
    "ExecuteTime": {
     "end_time": "2020-05-10T14:46:58.006809Z",
     "start_time": "2020-05-10T14:46:57.980646Z"
    }
   },
   "outputs": [
    {
     "name": "stdout",
     "output_type": "stream",
     "text": [
      "********************************\n",
      "User Name Chris Kamara\n",
      "User ID: 7fb89bd9-00ce-4c1b-bd40-0b751de1ba0e\n",
      "Gender: male\n",
      "Events hosted: ['Sports Gala', 'Footbball Gala']\n",
      "Events invited: []\n",
      "Events attending: ['Sports Gala', 'Footbball Gala']\n",
      "Events maybe attending: []\n",
      "********************************\n",
      "********************************\n",
      "User Name Lionel Messi\n",
      "User ID: ff7ad3eb-df9f-451b-9034-ca144273a0c4\n",
      "Gender: male\n",
      "Events hosted: []\n",
      "Events invited: ['Sports Gala', 'Footbball Gala']\n",
      "Events attending: []\n",
      "Events maybe attending: []\n",
      "********************************\n",
      "********************************\n",
      "User Name Jan Frodeno\n",
      "User ID: a91463f2-bd53-41c8-babe-1fbf2c3bc764\n",
      "Gender: male\n",
      "Events hosted: []\n",
      "Events invited: ['Sports Gala']\n",
      "Events attending: []\n",
      "Events maybe attending: []\n",
      "********************************\n",
      "********************************\n",
      "User Name Heiko Westermann\n",
      "User ID: c9e485f1-76f9-40ad-ab6a-4a7041994771\n",
      "Gender: male\n",
      "Events hosted: []\n",
      "Events invited: ['Sports Gala', 'Footbball Gala']\n",
      "Events attending: []\n",
      "Events maybe attending: []\n",
      "********************************\n",
      "********************************\n",
      "User Name Serena Williams\n",
      "User ID: 59ffe475-b7ed-4c46-ae50-b197cf86b2d2\n",
      "Gender: female\n",
      "Events hosted: []\n",
      "Events invited: ['Sports Gala']\n",
      "Events attending: []\n",
      "Events maybe attending: []\n",
      "********************************\n",
      "********************************\n",
      "User Name Marta\n",
      "User ID: 79cdd4c9-d596-4cb4-a0dc-d1387000dd85\n",
      "Gender: female\n",
      "Events hosted: []\n",
      "Events invited: ['Sports Gala', 'Footbball Gala']\n",
      "Events attending: []\n",
      "Events maybe attending: []\n",
      "********************************\n",
      "********************************\n",
      "User Name Alex Morgan\n",
      "User ID: 12d70735-f0e2-4c9f-a157-0bc939647a79\n",
      "Gender: female\n",
      "Events hosted: []\n",
      "Events invited: ['Sports Gala', 'Footbball Gala']\n",
      "Events attending: []\n",
      "Events maybe attending: []\n",
      "********************************\n"
     ]
    }
   ],
   "source": [
    "page.get_user_information()"
   ]
  },
  {
   "cell_type": "code",
   "execution_count": 14,
   "metadata": {
    "ExecuteTime": {
     "end_time": "2020-05-10T14:46:58.031193Z",
     "start_time": "2020-05-10T14:46:58.008171Z"
    }
   },
   "outputs": [
    {
     "name": "stdout",
     "output_type": "stream",
     "text": [
      "*********************\n",
      "Event Name: Footbball Gala\n",
      "Host: Chris Kamara\n",
      "Start Date: 2021-05-02 21:00:00\n",
      "End Date: 2021-06-02 21:00:00\n",
      "Location: Royal Albert Hall\n",
      "Description: Footballer of the year election\n",
      "Event UUID: 6eb5e0c6-e40c-4623-8f92-19669cfd4ae2\n",
      "Invited: ['Lionel Messi', 'Heiko Westermann', 'Marta', 'Alex Morgan']\n",
      "Confirmed: []\n",
      "Maybe: []\n",
      "Declined: []\n",
      "*********************\n",
      "*********************\n",
      "Event Name: Sports Gala\n",
      "Host: Chris Kamara\n",
      "Start Date: 2021-01-01 20:00:00\n",
      "End Date: 2021-02-01 02:00:00\n",
      "Location: o2 World Berlin\n",
      "Description: Annual election to the sportsperson of the year\n",
      "Event UUID: 71b5efe9-52ed-405e-8b05-2862542cdef4\n",
      "Invited: ['Lionel Messi', 'Jan Frodeno', 'Heiko Westermann', 'Serena Williams', 'Marta', 'Alex Morgan']\n",
      "Confirmed: []\n",
      "Maybe: []\n",
      "Declined: []\n",
      "*********************\n"
     ]
    }
   ],
   "source": [
    "page.get_event_information()"
   ]
  },
  {
   "cell_type": "code",
   "execution_count": 15,
   "metadata": {
    "ExecuteTime": {
     "end_time": "2020-05-10T14:46:58.055397Z",
     "start_time": "2020-05-10T14:46:58.032439Z"
    }
   },
   "outputs": [
    {
     "name": "stdout",
     "output_type": "stream",
     "text": [
      "*********************\n",
      "Event Name: Footbball Gala\n",
      "Host: Chris Kamara\n",
      "Start Date: 2021-05-02 21:00:00\n",
      "End Date: 2021-06-02 21:00:00\n",
      "Location: Royal Albert Hall\n",
      "Description: Footballer of the year election\n",
      "Event UUID: 6eb5e0c6-e40c-4623-8f92-19669cfd4ae2\n",
      "Invited: ['Lionel Messi', 'Heiko Westermann', 'Marta', 'Alex Morgan']\n",
      "Confirmed: []\n",
      "Maybe: []\n",
      "Declined: []\n",
      "*********************\n"
     ]
    }
   ],
   "source": [
    "football_gala.get_info()"
   ]
  },
  {
   "cell_type": "code",
   "execution_count": 16,
   "metadata": {
    "ExecuteTime": {
     "end_time": "2020-05-10T14:46:58.080538Z",
     "start_time": "2020-05-10T14:46:58.057158Z"
    },
    "scrolled": true
   },
   "outputs": [
    {
     "name": "stdout",
     "output_type": "stream",
     "text": [
      "*********************\n",
      "Event Name: Sports Gala\n",
      "Host: Chris Kamara\n",
      "Start Date: 2021-01-01 20:00:00\n",
      "End Date: 2021-02-01 02:00:00\n",
      "Location: o2 World Berlin\n",
      "Description: Annual election to the sportsperson of the year\n",
      "Event UUID: 71b5efe9-52ed-405e-8b05-2862542cdef4\n",
      "Invited: ['Lionel Messi', 'Jan Frodeno', 'Heiko Westermann', 'Serena Williams', 'Marta', 'Alex Morgan']\n",
      "Confirmed: []\n",
      "Maybe: []\n",
      "Declined: []\n",
      "*********************\n"
     ]
    }
   ],
   "source": [
    "sports_gala.get_info()"
   ]
  },
  {
   "cell_type": "markdown",
   "metadata": {
    "ExecuteTime": {
     "end_time": "2020-05-03T10:15:52.586069Z",
     "start_time": "2020-05-03T10:15:52.567181Z"
    }
   },
   "source": [
    "## Responding to invites"
   ]
  },
  {
   "cell_type": "markdown",
   "metadata": {
    "ExecuteTime": {
     "end_time": "2020-05-10T11:22:26.388408Z",
     "start_time": "2020-05-10T11:22:26.366992Z"
    }
   },
   "source": [
    "For demo purposes, let's generate some random reponses to the events"
   ]
  },
  {
   "cell_type": "code",
   "execution_count": 17,
   "metadata": {
    "ExecuteTime": {
     "end_time": "2020-05-10T14:46:58.105088Z",
     "start_time": "2020-05-10T14:46:58.081777Z"
    }
   },
   "outputs": [],
   "source": [
    "response_options = [\"attending\", \"maybe\", \"decline\"]"
   ]
  },
  {
   "cell_type": "markdown",
   "metadata": {
    "ExecuteTime": {
     "end_time": "2020-05-10T11:48:59.197088Z",
     "start_time": "2020-05-10T11:48:59.175880Z"
    }
   },
   "source": [
    "Respond to sports gala"
   ]
  },
  {
   "cell_type": "code",
   "execution_count": 18,
   "metadata": {
    "ExecuteTime": {
     "end_time": "2020-05-10T14:46:58.135441Z",
     "start_time": "2020-05-10T14:46:58.107197Z"
    }
   },
   "outputs": [
    {
     "name": "stdout",
     "output_type": "stream",
     "text": [
      "Lionel Messi is has declined Sports Gala\n",
      "Jan Frodeno is maybe attending Sports Gala\n",
      "Heiko Westermann is maybe attending Sports Gala\n",
      "Serena Williams is has declined Sports Gala\n",
      "Marta is attending Sports Gala\n",
      "Alex Morgan is attending Sports Gala\n"
     ]
    }
   ],
   "source": [
    "# Let's generate some random responses to the events\n",
    "event = sports_gala\n",
    "for user in event.invited: \n",
    "    response = choice(response_options)\n",
    "    if response == \"attending\": \n",
    "        user.attend(event.uuid)\n",
    "    elif response == \"maybe\": \n",
    "        user.maybe(event.uuid)\n",
    "    else: \n",
    "        user.decline(event.uuid)"
   ]
  },
  {
   "cell_type": "code",
   "execution_count": 19,
   "metadata": {
    "ExecuteTime": {
     "end_time": "2020-05-10T14:46:58.162086Z",
     "start_time": "2020-05-10T14:46:58.137473Z"
    }
   },
   "outputs": [
    {
     "name": "stdout",
     "output_type": "stream",
     "text": [
      "Lionel Messi is maybe attending Footbball Gala\n",
      "Heiko Westermann is attending Footbball Gala\n",
      "Marta is attending Footbball Gala\n",
      "Alex Morgan is attending Footbball Gala\n"
     ]
    }
   ],
   "source": [
    "event = football_gala\n",
    "for user in event.invited: \n",
    "    response = choice(response_options)\n",
    "    if response == \"attending\": \n",
    "        user.attend(event.uuid)\n",
    "    elif response == \"maybe\": \n",
    "        user.maybe(event.uuid)\n",
    "    else: \n",
    "        user.decline(event.uuid)"
   ]
  },
  {
   "cell_type": "code",
   "execution_count": 20,
   "metadata": {
    "ExecuteTime": {
     "end_time": "2020-05-10T14:46:58.188908Z",
     "start_time": "2020-05-10T14:46:58.163589Z"
    }
   },
   "outputs": [
    {
     "name": "stdout",
     "output_type": "stream",
     "text": [
      "*********************\n",
      "Event Name: Footbball Gala\n",
      "Host: Chris Kamara\n",
      "Start Date: 2021-05-02 21:00:00\n",
      "End Date: 2021-06-02 21:00:00\n",
      "Location: Royal Albert Hall\n",
      "Description: Footballer of the year election\n",
      "Event UUID: 6eb5e0c6-e40c-4623-8f92-19669cfd4ae2\n",
      "Invited: ['Lionel Messi', 'Heiko Westermann', 'Marta', 'Alex Morgan']\n",
      "Confirmed: ['Heiko Westermann', 'Marta', 'Alex Morgan']\n",
      "Maybe: ['Lionel Messi']\n",
      "Declined: []\n",
      "*********************\n",
      "*********************\n",
      "Event Name: Sports Gala\n",
      "Host: Chris Kamara\n",
      "Start Date: 2021-01-01 20:00:00\n",
      "End Date: 2021-02-01 02:00:00\n",
      "Location: o2 World Berlin\n",
      "Description: Annual election to the sportsperson of the year\n",
      "Event UUID: 71b5efe9-52ed-405e-8b05-2862542cdef4\n",
      "Invited: ['Lionel Messi', 'Jan Frodeno', 'Heiko Westermann', 'Serena Williams', 'Marta', 'Alex Morgan']\n",
      "Confirmed: ['Marta', 'Alex Morgan']\n",
      "Maybe: ['Jan Frodeno', 'Heiko Westermann']\n",
      "Declined: ['Lionel Messi', 'Serena Williams']\n",
      "*********************\n"
     ]
    }
   ],
   "source": [
    "page.get_event_information()"
   ]
  },
  {
   "cell_type": "code",
   "execution_count": 21,
   "metadata": {
    "ExecuteTime": {
     "end_time": "2020-05-10T14:46:58.213706Z",
     "start_time": "2020-05-10T14:46:58.190745Z"
    }
   },
   "outputs": [],
   "source": [
    "# Print current state of page to users.csv and events.csv"
   ]
  },
  {
   "cell_type": "markdown",
   "metadata": {
    "ExecuteTime": {
     "end_time": "2020-05-03T10:39:40.999827Z",
     "start_time": "2020-05-03T10:39:40.981881Z"
    }
   },
   "source": [
    "## Printing event stats"
   ]
  },
  {
   "cell_type": "code",
   "execution_count": 22,
   "metadata": {
    "ExecuteTime": {
     "end_time": "2020-05-10T14:46:58.443419Z",
     "start_time": "2020-05-10T14:46:58.214949Z"
    }
   },
   "outputs": [
    {
     "data": {
      "image/png": "[encoded data removed]",
      "text/plain": [
       "<Figure size 864x648 with 1 Axes>"
      ]
     },
     "metadata": {
      "needs_background": "light"
     },
     "output_type": "display_data"
    }
   ],
   "source": [
    "sports_gala.get_response_stats()"
   ]
  },
  {
   "cell_type": "code",
   "execution_count": 23,
   "metadata": {
    "ExecuteTime": {
     "end_time": "2020-05-10T14:46:58.464503Z",
     "start_time": "2020-05-10T14:46:58.445561Z"
    }
   },
   "outputs": [
    {
     "name": "stdout",
     "output_type": "stream",
     "text": [
      "Countdown to Sports Gala: 236 days...\n"
     ]
    }
   ],
   "source": [
    "sports_gala.countdown()"
   ]
  },
  {
   "cell_type": "markdown",
   "metadata": {
    "ExecuteTime": {
     "end_time": "2020-05-10T12:49:46.571919Z",
     "start_time": "2020-05-10T12:49:46.550451Z"
    }
   },
   "source": [
    "## Getting geolocation information"
   ]
  },
  {
   "cell_type": "code",
   "execution_count": 39,
   "metadata": {
    "ExecuteTime": {
     "end_time": "2020-05-10T15:06:17.654780Z",
     "start_time": "2020-05-10T15:06:17.529822Z"
    }
   },
   "outputs": [
    {
     "name": "stdout",
     "output_type": "stream",
     "text": [
      "Full Address of the event venue:\n",
      "1, Mercedes-Platz, Friedrichshain, Friedrichshain-Kreuzberg, Berlin, 10243, Deutschland\n"
     ]
    }
   ],
   "source": [
    "sports_gala.get_directions()"
   ]
  },
  {
   "cell_type": "code",
   "execution_count": 40,
   "metadata": {
    "ExecuteTime": {
     "end_time": "2020-05-10T15:06:43.948934Z",
     "start_time": "2020-05-10T15:06:43.844493Z"
    }
   },
   "outputs": [
    {
     "name": "stdout",
     "output_type": "stream",
     "text": [
      "Full Address of the event venue:\n",
      "Royal Albert Hall, Kensington Gore, Knightsbridge, City of Westminster, London, Greater London, England, SW7 2AP, United Kingdom\n"
     ]
    }
   ],
   "source": [
    "football_gala.get_directions()"
   ]
  }
 ],
 "metadata": {
  "kernelspec": {
   "display_name": "Python 3",
   "language": "python",
   "name": "python3"
  },
  "language_info": {
   "codemirror_mode": {
    "name": "ipython",
    "version": 3
   },
   "file_extension": ".py",
   "mimetype": "text/x-python",
   "name": "python",
   "nbconvert_exporter": "python",
   "pygments_lexer": "ipython3",
   "version": "3.7.1"
  },
  "toc": {
   "base_numbering": 1,
   "nav_menu": {},
   "number_sections": true,
   "sideBar": true,
   "skip_h1_title": false,
   "title_cell": "Table of Contents",
   "title_sidebar": "Contents",
   "toc_cell": false,
   "toc_position": {},
   "toc_section_display": true,
   "toc_window_display": false
  }
 },
 "nbformat": 4,
 "nbformat_minor": 1
}
